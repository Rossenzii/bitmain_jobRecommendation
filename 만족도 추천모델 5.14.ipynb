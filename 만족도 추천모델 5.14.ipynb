{
 "cells": [
  {
   "cell_type": "code",
   "execution_count": 1,
   "id": "74792ae0-bdc2-40c9-bb59-aed37dc46542",
   "metadata": {},
   "outputs": [
    {
     "name": "stdin",
     "output_type": "stream",
     "text": [
      "당신의 MBTI를 입력하세요 (예: ENFP):  ESFJ\n"
     ]
    },
    {
     "name": "stdout",
     "output_type": "stream",
     "text": [
      "\n",
      "각 성격 항목에 대해 0~2 사이의 점수를 입력하세요. (엔터 시 기본값 1)\n"
     ]
    },
    {
     "name": "stdin",
     "output_type": "stream",
     "text": [
      "<성격> 성취/노력:  1\n",
      "<성격> 인내:  1\n",
      "<성격> 책임성과 진취성:  1\n",
      "<성격> 리더십:  \n",
      "<성격> 협조:  1\n",
      "<성격> 타인에대한 배려:  1\n",
      "<성격> 사회성:  1\n",
      "<성격> 자기통제:  1\n",
      "<성격> 스트레스감내성:  \n",
      "<성격> 적응성/융통성:  1\n",
      "<성격> 신뢰성:  1\n",
      "<성격> 꼼꼼함:  1\n",
      "<성격> 정직성:  1\n",
      "<성격> 독립성:  1\n",
      "<성격> 혁신:  1\n",
      "<성격> 분석적 사고:  1\n"
     ]
    },
    {
     "name": "stdout",
     "output_type": "stream",
     "text": [
      "\n",
      "📌 당신에게 추천되는 직업 목록 (예상 직업만족도 순):\n",
      "       직업명   예상직업만족도\n",
      "0   유치원 교사  0.630148\n",
      "1  초등학교 교사  0.049423\n",
      "2      간호사 -0.539883\n",
      "3    사회복지사 -0.717849\n",
      "4       비서 -1.644114\n"
     ]
    }
   ],
   "source": [
    "import pandas as pd\n",
    "from sklearn.preprocessing import normalize\n",
    "\n",
    "# ===== 1. 데이터 불러오기 =====\n",
    "job_df = pd.read_excel(\"C:/Users/user/Desktop/비타민/공모전/직업별_하이브리드_만족도정규화_성격프로파일_최종.xlsx\")\n",
    "mbti_df = pd.read_excel(\"C:/Users/user/Desktop/비타민/공모전/MBTI별_직업_정리_완전버전.xlsx\")\n",
    "\n",
    "# ===== 2. L2 정규화 =====\n",
    "trait_columns = job_df.columns[1:]\n",
    "trait_matrix = job_df[trait_columns].values\n",
    "normalized_matrix = normalize(trait_matrix, axis=1)\n",
    "df_l2_normalized = pd.DataFrame(normalized_matrix, columns=trait_columns)\n",
    "df_l2_normalized.insert(0, '직업명', job_df.iloc[:, 0])\n",
    "\n",
    "# ===== 3. 사용자 MBTI 입력 =====\n",
    "def get_mbti_input():\n",
    "    mbti = input(\"당신의 MBTI를 입력하세요 (예: ENFP): \").strip().upper()\n",
    "    return mbti\n",
    "\n",
    "# ===== 4. 사용자 성격 점수 입력 (0~2) =====\n",
    "def get_user_input(trait_columns):\n",
    "    print(\"\\n각 성격 항목에 대해 0~2 사이의 점수를 입력하세요. (엔터 시 기본값 1)\")\n",
    "    user_input = {}\n",
    "    for trait in trait_columns:\n",
    "        try:\n",
    "            val = input(f\"{trait}: \")\n",
    "            val = int(val) if val.strip() != \"\" else 1\n",
    "            if val < 0 or val > 2:\n",
    "                print(\"⚠️ 0~2 사이의 값만 허용됩니다. 기본값 1이 적용됩니다.\")\n",
    "                val = 1\n",
    "        except:\n",
    "            print(\"⚠️ 숫자로 입력해주세요. 기본값 1이 적용됩니다.\")\n",
    "            val = 1\n",
    "        user_input[trait] = val\n",
    "    return pd.Series(user_input)\n",
    "\n",
    "# ===== 5. 추천 직업 계산 =====\n",
    "def recommend_jobs_by_mbti(mbti_input, user_traits, mbti_df, job_df):\n",
    "    mbti_jobs = mbti_df.loc[mbti_df['MBTI'] == mbti_input, '직업']\n",
    "    if mbti_jobs.empty:\n",
    "        print(f\"\\n❌ 입력한 MBTI({mbti_input})에 해당하는 추천 직업 정보가 없습니다.\")\n",
    "        return pd.DataFrame({'직업명': [], '예상직업만족도': []})\n",
    "\n",
    "    job_list = [job.strip() for job in mbti_jobs.values[0].split(',')]\n",
    "    filtered = job_df[job_df['직업명'].isin(job_list)].copy()\n",
    "\n",
    "    if filtered.empty:\n",
    "        print(f\"\\n⚠️ 추천된 직업 중 성격 가중치 데이터셋과 정확히 일치하는 직업이 없습니다.\")\n",
    "        return pd.DataFrame({'직업명': [], '예상직업만족도': []})\n",
    "\n",
    "    scores = filtered[trait_columns].multiply(user_traits, axis=1).sum(axis=1)\n",
    "    results = pd.DataFrame({\n",
    "        '직업명': filtered['직업명'],\n",
    "        '예상직업만족도': scores\n",
    "    }).sort_values(by='예상직업만족도', ascending=False).reset_index(drop=True)\n",
    "\n",
    "    return results\n",
    "\n",
    "# ===== 6. 실행 =====\n",
    "mbti_input = get_mbti_input()\n",
    "user_traits = get_user_input(trait_columns)\n",
    "top_jobs = recommend_jobs_by_mbti(mbti_input, user_traits, mbti_df, df_l2_normalized)\n",
    "\n",
    "# ===== 7. 결과 출력 =====\n",
    "print(\"\\n📌 당신에게 추천되는 직업 목록 (예상 직업만족도 순):\")\n",
    "print(top_jobs if not top_jobs.empty else \"추천 가능한 직업이 없습니다.\")\n"
   ]
  }
 ],
 "metadata": {
  "kernelspec": {
   "display_name": "Python 3 (ipykernel)",
   "language": "python",
   "name": "python3"
  },
  "language_info": {
   "codemirror_mode": {
    "name": "ipython",
    "version": 3
   },
   "file_extension": ".py",
   "mimetype": "text/x-python",
   "name": "python",
   "nbconvert_exporter": "python",
   "pygments_lexer": "ipython3",
   "version": "3.12.7"
  }
 },
 "nbformat": 4,
 "nbformat_minor": 5
}
